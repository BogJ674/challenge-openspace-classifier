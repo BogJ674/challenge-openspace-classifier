{
 "cells": [
  {
   "cell_type": "markdown",
   "id": "46ccd25f",
   "metadata": {},
   "source": [
    "# Open Space Organizer\n",
    "\n",
    "We want to create a program that assigns 24 people to 6 tables in an openspace. Before getting started, take inventory what do we need:\n",
    "\n",
    "- People\n",
    "- Seats & Tables\n",
    "- An OpenSpace\n",
    "\n",
    "It's a good practice to start simple while you grasp the logic of the program you are trying to build and test often. For us this can translate to,\n",
    "\n",
    "- People -> List of Names (later we can figure out how to use a file)\n",
    "- Seats & Tables -> Class\n",
    "- An OpenSpace -> Class\n",
    "\n",
    "Below I've created a list of your new colleagues for reference!"
   ]
  },
  {
   "cell_type": "markdown",
   "id": "5331eef9",
   "metadata": {},
   "source": [
    "## Step 1: Build a Seat\n",
    "\n",
    "Create a class called `Seat` with two attributes:\n",
    "\n",
    "- `free` which is a boolean.\n",
    "- `occupant` which is a string.\n",
    "\n",
    "and 2 functions : \n",
    "\n",
    "- `set_occupant(name)` which allows the program to assign someone a seat if it's free\n",
    "- `remove_occupant()` which  remove someone from a seat and return the name of the person occupying the seat before\n"
   ]
  },
  {
   "cell_type": "code",
   "execution_count": 12,
   "id": "d2272fa0",
   "metadata": {},
   "outputs": [],
   "source": [
    "new_collegues = [\"Aleksei\",\"Amine\",\"Anna\",\"Astha\",\"Brigitta\",\n",
    "                 \"Bryan\",\"Ena\",\"Esra\",\"Faranges\",\"Frédéric\",\n",
    "                 \"Hamideh\",\"Héloïse\",\"Imran\",\"Intan K.\",\n",
    "                 \"Jens\",\"Kristin\",\"Michiel\",\"Nancy\",\"Pierrick\",\n",
    "                 \"Sandrine\",\"Tim\",\"Viktor\",\"Welederufeal\",\"Živile\"]"
   ]
  },
  {
   "cell_type": "code",
   "execution_count": null,
   "id": "b2206876",
   "metadata": {},
   "outputs": [],
   "source": [
    "# Your code here\n",
    "class Seat:\n",
    "    \"\"\"\n",
    "    represents the seat which could be occupied by a person\n",
    "\n",
    "    Attributes:\n",
    "        free (bool): if the seat is free or not\n",
    "        occupant (str): who is occupying the seat\"\"\"\n",
    "\n",
    "    def __init__(self) -> None:\n",
    "        self.free: bool = True\n",
    "        self.occupant: str = \"\"\n",
    "    \n",
    "    def set_occupant(self, name: str) -> None:\n",
    "        \"\"\"Assigns an occupant to the seat if it is free.\"\"\"\n",
    "        if self.free:\n",
    "            self.occupant = name\n",
    "            self.free = False\n",
    "        else:\n",
    "            print(\"Seat is already occupied.\")\n",
    "    \n",
    "    def remove_occupant(self) -> str | None:\n",
    "        \"\"\"Removes the occupant from the seat and returns their name.\"\"\"\n",
    "        if not self.free:\n",
    "            name = self.occupant\n",
    "            self.occupant = \"\"\n",
    "            self.free = True\n",
    "            return name\n",
    "        else:\n",
    "            print(\"Seat is already free.\")\n",
    "            return None"
   ]
  },
  {
   "cell_type": "code",
   "execution_count": 14,
   "id": "97ec69ff",
   "metadata": {},
   "outputs": [
    {
     "name": "stdout",
     "output_type": "stream",
     "text": [
      "My seat occupant: Jens\n",
      "Is my seat free? False\n",
      "Removing occupant: Jens\n",
      "Is my seat free now? True\n"
     ]
    }
   ],
   "source": [
    "# Test your code (assign yourself you a Seat)\n",
    "my_seat = Seat()\n",
    "my_seat.set_occupant(\"Jens\")\n",
    "print(f\"My seat occupant: {my_seat.occupant}\")  # Output: Jens\n",
    "\n",
    "print(f\"Is my seat free? {my_seat.free}\")  # Output: False\n",
    "print(f\"Removing occupant: {my_seat.remove_occupant()}\")  # Output: Jens\n",
    "print(f\"Is my seat free now? {my_seat.free}\")  # Output:\n"
   ]
  },
  {
   "cell_type": "markdown",
   "id": "12d6834f",
   "metadata": {},
   "source": [
    "What is the input and the output of your Seat class? Does it make sense?\n",
    "\n",
    "## Step 2: Build a Table\n",
    "\n",
    "Create a class `Table` with ? attributes:\n",
    "\n",
    "- `capacity` which is an integer\n",
    "- `seats` which is a list of `Seat` objects (size = `capacity`)\n",
    "\n",
    "and 3 functions : \n",
    "- `has_free_spot()` that returns a boolean (True if a spot is available)\n",
    "- `assign_seat(name)` that places someone at the table\n",
    "- `left_capacity()` that returns an integer\n",
    "\n",
    "Question: Which attributes make sense to give? For now let's say we want to build 6 tables with 4 seats.\n"
   ]
  },
  {
   "cell_type": "code",
   "execution_count": null,
   "id": "d64b76c8",
   "metadata": {},
   "outputs": [],
   "source": [
    "# Your code here\n",
    "class Table:\n",
    "    \"\"\"Class to represent a table with multiple seats.\n",
    "        Attributes:\n",
    "        seats (list[Seat]): a list of Seat objects at the table.\n",
    "        capacity (int) which is an integer representing the number of seats at the table.\"\"\"\n",
    "\n",
    "    def __init__(self, capacity: int) -> None:\n",
    "        self.capacity: int = capacity\n",
    "        self.seats: list[Seat] = [Seat() for _ in range(capacity)]\n",
    "    \n",
    "    def has_free_spot(self) -> bool:\n",
    "        \"\"\"Checks if there is at least one free seat at the table.\"\"\"\n",
    "        return any(seat.free for seat in self.seats)\n",
    "    \n",
    "    def assign_seat(self, name: str) -> None:\n",
    "        \"\"\"Assigns a seat to a person if there is a free spot.\"\"\"\n",
    "        for seat in self.seats:\n",
    "            if seat.free:\n",
    "                seat.set_occupant(name)\n",
    "                return\n",
    "        print(\"No free seats available.\")\n",
    "    \n",
    "    def left_capacity(self) -> int:\n",
    "        \"\"\"Returns the number of free seats left at the table.\"\"\"\n",
    "        return sum(1 for seat in self.seats if seat.free)\n",
    "    \n",
    "    def __str__(self) -> str:\n",
    "        \"\"\"Returns a string representation of the table and its seats.\"\"\"\n",
    "        seat_statuses = [f\"Seat {i+1}: {'Free' if seat.free else seat.occupant}\" for i, seat in enumerate(self.seats)]\n",
    "        return \"\\n\".join(seat_statuses)"
   ]
  },
  {
   "cell_type": "code",
   "execution_count": 16,
   "id": "108ce578",
   "metadata": {},
   "outputs": [
    {
     "name": "stdout",
     "output_type": "stream",
     "text": [
      "Assigned Aleksei to the table.\n",
      "Assigned Amine to the table.\n",
      "Assigned Anna to the table.\n",
      "Assigned Astha to the table.\n",
      "No free seats available.\n",
      "Assigned Brigitta to the table.\n",
      "Free spots left at the table: 0\n",
      "Table status:\n",
      "Seat 1: Aleksei\n",
      "Seat 2: Amine\n",
      "Seat 3: Anna\n",
      "Seat 4: Astha\n"
     ]
    }
   ],
   "source": [
    "# Test your code (assign the colleagues at your table to a Table)\n",
    "my_table = Table(capacity=4)\n",
    "for colleague in new_collegues[:5]:\n",
    "    my_table.assign_seat(colleague)\n",
    "    print(f\"Assigned {colleague} to the table.\")\n",
    "\n",
    "print(f\"Free spots left at the table: {my_table.left_capacity()}\")  # Output: 0 or more depending on assignments\n",
    "\n",
    "print(\"Table status:\")\n",
    "print(my_table)  # Output: String representation of the table and its seats"
   ]
  },
  {
   "cell_type": "markdown",
   "id": "75f177c6",
   "metadata": {},
   "source": [
    "Does the output of you test make sense? Check that each method returns the correct value."
   ]
  },
  {
   "cell_type": "markdown",
   "id": "5b395b9e",
   "metadata": {},
   "source": [
    "## Step 3: Build an OpenSpace\n",
    "\n",
    "Create a class `Openspace` that contains these attributes:\n",
    "\n",
    "- `tables` which is a list of `Table`. _(you will need to import `Table` from `table.py`)_. \n",
    "- `number_of_tables` which is an integer.\n",
    "\n",
    "And some methods:\n",
    "\n",
    "- `organize(names)` that will:\n",
    "  - **randomly** assign people to `Seat` objects in the different `Table` objects.\n",
    "- `display()` display the different tables and there occupants in a nice and readable way\n",
    "- `store(filename)` store the repartition in an file"
   ]
  },
  {
   "cell_type": "code",
   "execution_count": 17,
   "id": "1eed7151",
   "metadata": {},
   "outputs": [],
   "source": [
    "# Your code here\n",
    "class Openspace:\n",
    "    '''Class to represent an openspace with multiple tables.\n",
    "    Attributes:\n",
    "    - `tables` which is a list of table objects.\n",
    "    - `number_of_tables` which is an integer representing the number of tables in the openspace.\n",
    "    Functions:\n",
    "    - `organize(names)` randomly assing people to Seat objects in the different Table objects.\n",
    "    - dispay() display the different tables and their occupants in a nice and readable way.\n",
    "    - store(filename)`store the repartition in a file. '''\n",
    "\n",
    "    def __init__(self, number_of_tables: int, table_capacity: int) -> None:\n",
    "        self.number_of_tables: int = number_of_tables\n",
    "        self.tables: list[Table] = [Table(table_capacity) for _ in range(number_of_tables)]\n",
    "\n",
    "    def organize(self, names: list[str]) -> None:\n",
    "        '''Randomly assigns people to Seat objects in the different Table objects.'''\n",
    "        import random\n",
    "        random.shuffle(names)\n",
    "        name_index = 0\n",
    "        for table in self.tables:\n",
    "            while table.has_free_spot() and name_index < len(names):\n",
    "                table.assign_seat(names[name_index])\n",
    "                name_index += 1\n",
    "\n",
    "    def display(self) -> None:\n",
    "        '''Displays the different tables and their occupants in a nice and readable way.'''\n",
    "        for i, table in enumerate(self.tables):\n",
    "            print(f\"Table {i+1}:\")\n",
    "            print(table)\n",
    "            print(\"-\" * 20)\n",
    "    \n",
    "    def store(self, filename: str = \"output.csv\") -> None:\n",
    "        '''Stores the repartition in a file. default: output.csv'''\n",
    "        import csv\n",
    "        with open(filename, mode='w', newline='') as file:\n",
    "            writer = csv.writer(file)\n",
    "            writer.writerow([\"Table Number\", \"Seat Number\", \"Occupant\"])\n",
    "            for i, table in enumerate(self.tables):\n",
    "                for j, seat in enumerate(table.seats):\n",
    "                    writer.writerow([i+1, j+1, seat.occupant if not seat.free else \"Free\"])\n",
    "\n",
    "\n"
   ]
  },
  {
   "cell_type": "code",
   "execution_count": 18,
   "id": "6c20824f",
   "metadata": {},
   "outputs": [
    {
     "name": "stdout",
     "output_type": "stream",
     "text": [
      "Table 1:\n",
      "Seat 1: Jens\n",
      "Seat 2: Kristin\n",
      "Seat 3: Michiel\n",
      "Seat 4: Tim\n",
      "--------------------\n",
      "Table 2:\n",
      "Seat 1: Anna\n",
      "Seat 2: Amine\n",
      "Seat 3: Pierrick\n",
      "Seat 4: Brigitta\n",
      "--------------------\n",
      "Table 3:\n",
      "Seat 1: Živile\n",
      "Seat 2: Aleksei\n",
      "Seat 3: Bryan\n",
      "Seat 4: Frédéric\n",
      "--------------------\n",
      "Table 4:\n",
      "Seat 1: Ena\n",
      "Seat 2: Imran\n",
      "Seat 3: Hamideh\n",
      "Seat 4: Viktor\n",
      "--------------------\n",
      "Table 5:\n",
      "Seat 1: Sandrine\n",
      "Seat 2: Esra\n",
      "Seat 3: Astha\n",
      "Seat 4: Intan K.\n",
      "--------------------\n",
      "Table 6:\n",
      "Seat 1: Nancy\n",
      "Seat 2: Faranges\n",
      "Seat 3: Welederufeal\n",
      "Seat 4: Héloïse\n",
      "--------------------\n"
     ]
    }
   ],
   "source": [
    "# Test your code (assign everyone in the class to a table)\n",
    "openspace = Openspace(number_of_tables=6, table_capacity=4)\n",
    "openspace.organize(new_collegues)\n",
    "openspace.display()\n",
    "openspace.store(\"seating_arrangement.csv\")"
   ]
  },
  {
   "cell_type": "markdown",
   "id": "0d3923a8",
   "metadata": {},
   "source": [
    "Hurray! You have the algorithm logic working. Next steps we transform this into some scripts! **Big note:** Once you move to the scrips you may need to adapt your logic, don't fret this is normal!"
   ]
  }
 ],
 "metadata": {
  "kernelspec": {
   "display_name": ".venv",
   "language": "python",
   "name": "python3"
  },
  "language_info": {
   "codemirror_mode": {
    "name": "ipython",
    "version": 3
   },
   "file_extension": ".py",
   "mimetype": "text/x-python",
   "name": "python",
   "nbconvert_exporter": "python",
   "pygments_lexer": "ipython3",
   "version": "3.14.0"
  }
 },
 "nbformat": 4,
 "nbformat_minor": 5
}
